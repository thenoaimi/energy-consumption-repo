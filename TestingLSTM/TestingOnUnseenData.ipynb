{
 "cells": [
  {
   "cell_type": "code",
   "execution_count": 43,
   "metadata": {},
   "outputs": [],
   "source": [
    "import numpy as np\n",
    "import pandas as pd\n",
    "import matplotlib.pyplot as plt\n",
    "import seaborn as sns\n",
    "from sklearn.metrics import mean_squared_error, r2_score, mean_absolute_error\n",
    "\n",
    "%matplotlib inline\n",
    "sns.set()"
   ]
  },
  {
   "cell_type": "code",
   "execution_count": 49,
   "metadata": {},
   "outputs": [],
   "source": [
    "def error_metrics(y_pred, y_observed, model_name = None, test = True):\n",
    "    \n",
    "    if isinstance(y_pred, np.ndarray):\n",
    "        y_pred = y_pred\n",
    "    else:\n",
    "        y_pred = y_pred.to_numpy()\n",
    "\n",
    "    if isinstance(y_observed, np.ndarray):\n",
    "        y_observed = y_observed\n",
    "    else:\n",
    "        y_observed = y_observed.to_numpy()\n",
    "\n",
    "    print(f'Error metrics for {model_name} \\n')\n",
    "\n",
    "    RMSE = np.sqrt(mean_squared_error(y_observed, y_pred))\n",
    "    print(f'Root Mean Squared Error (RMSE): {round(RMSE, 3)}')\n",
    "\n",
    "    MAE = mean_absolute_error(y_observed, y_pred)\n",
    "    print(f'Mean Absolute Error (MAE): {round(MAE, 3)}')\n",
    "\n",
    "    MAPE = (np.mean(np.abs((y_observed - y_pred) / y_observed)) * 100)\n",
    "    print(f'Mean Absolute Percentage Error (MAPE): {round(MAPE, 3)} %')\n",
    "\n",
    "    R2 = r2_score(y_observed, y_pred)\n",
    "    print(f'Variance Score (R2): {round(R2, 3)}')\n",
    "\n",
    "    if test:\n",
    "        train_test = 'test'\n",
    "    else:\n",
    "        train_test = 'train'\n",
    "\n",
    "    names = ['model', 'train_test', 'RMSE', 'MAE', 'MAPE', 'R2']\n",
    "    values = [model_name, train_test, RMSE, MAE, MAPE, R2]\n",
    "    list_error = list(zip(names, values))\n",
    "\n",
    "    # for error in list_error:\n",
    "    #     if error[0] in lstm_error:\n",
    "    #         lstm_error[error[0]].append(error[1])\n",
    "    #     else:\n",
    "    #         lstm_error[error[0]] = [error[1]]"
   ]
  },
  {
   "cell_type": "code",
   "execution_count": 45,
   "metadata": {},
   "outputs": [],
   "source": [
    "# creating function for plotting predicted vs actual energy values\n",
    "def PredTrueReg(pred, truth, model_name=None):\n",
    "    \"\"\"\n",
    "    Plots the observed energy consumption against the predicted energy consumption\n",
    "    \"\"\"\n",
    "    fig, ax = plt.subplots(1,1, figsize=(10,10))\n",
    "    ax.scatter(truth, pred, alpha=0.7) \n",
    "    plt.xlabel(\"Observed Electric Consumption (MwH)\")\n",
    "    plt.ylabel(\"Predicted Electric Consumption (MwH)\")\n",
    "    plt.title(f\"Observed VS Predicted Electric Consumption using {model_name}\", fontsize=14)\n",
    "\n",
    "    #plotting 45 deg line to see how the prediction differs from the observed values\n",
    "    x = np.linspace(*ax.get_xlim())\n",
    "    ax.plot(x, x, color='black')"
   ]
  },
  {
   "cell_type": "code",
   "execution_count": 46,
   "metadata": {},
   "outputs": [],
   "source": [
    "def PlotPredictedTS(observed_ts, predicted_ts, model_name=None, observed_alpha = 0.5, predicted_alpha = 0.7):\n",
    "    \n",
    "    plt.figure(figsize=(16, 9))\n",
    "    sns.lineplot(x= observed_ts.index, y=np.array(observed_ts.values), color='red', alpha=observed_alpha, label='Observed')\n",
    "    sns.lineplot(x= observed_ts.index, y=predicted_ts, color='lightslategrey', alpha=predicted_alpha, label='Predicted')\n",
    "    plt.title(f'Observed VS Predicted Energy Consumption using {model_name}')\n",
    "    plt.xlabel('Time')\n",
    "    plt.ylabel('Energy Consumption (MwH)')\n",
    "\n",
    "    plt.show()"
   ]
  },
  {
   "cell_type": "code",
   "execution_count": 6,
   "metadata": {},
   "outputs": [
    {
     "name": "stdout",
     "output_type": "stream",
     "text": [
      "Data Frame Shape: (113976, 14)\n"
     ]
    },
    {
     "data": {
      "text/html": [
       "<div>\n",
       "<style scoped>\n",
       "    .dataframe tbody tr th:only-of-type {\n",
       "        vertical-align: middle;\n",
       "    }\n",
       "\n",
       "    .dataframe tbody tr th {\n",
       "        vertical-align: top;\n",
       "    }\n",
       "\n",
       "    .dataframe thead th {\n",
       "        text-align: right;\n",
       "    }\n",
       "</style>\n",
       "<table border=\"1\" class=\"dataframe\">\n",
       "  <thead>\n",
       "    <tr style=\"text-align: right;\">\n",
       "      <th></th>\n",
       "      <th>zone</th>\n",
       "      <th>demand</th>\n",
       "      <th>drybulb</th>\n",
       "      <th>dewpnt</th>\n",
       "      <th>date</th>\n",
       "      <th>year</th>\n",
       "      <th>month</th>\n",
       "      <th>hour</th>\n",
       "      <th>day_of_week</th>\n",
       "      <th>day_of_year</th>\n",
       "      <th>weekend</th>\n",
       "      <th>holiday</th>\n",
       "      <th>trend</th>\n",
       "      <th>non_working</th>\n",
       "    </tr>\n",
       "    <tr>\n",
       "      <th>ts</th>\n",
       "      <th></th>\n",
       "      <th></th>\n",
       "      <th></th>\n",
       "      <th></th>\n",
       "      <th></th>\n",
       "      <th></th>\n",
       "      <th></th>\n",
       "      <th></th>\n",
       "      <th></th>\n",
       "      <th></th>\n",
       "      <th></th>\n",
       "      <th></th>\n",
       "      <th></th>\n",
       "      <th></th>\n",
       "    </tr>\n",
       "  </thead>\n",
       "  <tbody>\n",
       "    <tr>\n",
       "      <th>2004-01-01 00:00:00</th>\n",
       "      <td>RI</td>\n",
       "      <td>744.0</td>\n",
       "      <td>41.0</td>\n",
       "      <td>27.0</td>\n",
       "      <td>2004-01-01</td>\n",
       "      <td>2004</td>\n",
       "      <td>1</td>\n",
       "      <td>0</td>\n",
       "      <td>Thu</td>\n",
       "      <td>1</td>\n",
       "      <td>False</td>\n",
       "      <td>True</td>\n",
       "      <td>7344.0</td>\n",
       "      <td>True</td>\n",
       "    </tr>\n",
       "    <tr>\n",
       "      <th>2004-01-01 01:00:00</th>\n",
       "      <td>RI</td>\n",
       "      <td>699.0</td>\n",
       "      <td>39.0</td>\n",
       "      <td>25.0</td>\n",
       "      <td>2004-01-01</td>\n",
       "      <td>2004</td>\n",
       "      <td>1</td>\n",
       "      <td>1</td>\n",
       "      <td>Thu</td>\n",
       "      <td>1</td>\n",
       "      <td>False</td>\n",
       "      <td>True</td>\n",
       "      <td>7345.0</td>\n",
       "      <td>True</td>\n",
       "    </tr>\n",
       "    <tr>\n",
       "      <th>2004-01-01 02:00:00</th>\n",
       "      <td>RI</td>\n",
       "      <td>666.0</td>\n",
       "      <td>40.0</td>\n",
       "      <td>25.0</td>\n",
       "      <td>2004-01-01</td>\n",
       "      <td>2004</td>\n",
       "      <td>1</td>\n",
       "      <td>2</td>\n",
       "      <td>Thu</td>\n",
       "      <td>1</td>\n",
       "      <td>False</td>\n",
       "      <td>True</td>\n",
       "      <td>7346.0</td>\n",
       "      <td>True</td>\n",
       "    </tr>\n",
       "    <tr>\n",
       "      <th>2004-01-01 03:00:00</th>\n",
       "      <td>RI</td>\n",
       "      <td>645.0</td>\n",
       "      <td>41.0</td>\n",
       "      <td>23.0</td>\n",
       "      <td>2004-01-01</td>\n",
       "      <td>2004</td>\n",
       "      <td>1</td>\n",
       "      <td>3</td>\n",
       "      <td>Thu</td>\n",
       "      <td>1</td>\n",
       "      <td>False</td>\n",
       "      <td>True</td>\n",
       "      <td>7347.0</td>\n",
       "      <td>True</td>\n",
       "    </tr>\n",
       "    <tr>\n",
       "      <th>2004-01-01 04:00:00</th>\n",
       "      <td>RI</td>\n",
       "      <td>643.0</td>\n",
       "      <td>40.0</td>\n",
       "      <td>18.0</td>\n",
       "      <td>2004-01-01</td>\n",
       "      <td>2004</td>\n",
       "      <td>1</td>\n",
       "      <td>4</td>\n",
       "      <td>Thu</td>\n",
       "      <td>1</td>\n",
       "      <td>False</td>\n",
       "      <td>True</td>\n",
       "      <td>7348.0</td>\n",
       "      <td>True</td>\n",
       "    </tr>\n",
       "  </tbody>\n",
       "</table>\n",
       "</div>"
      ],
      "text/plain": [
       "                    zone  demand  drybulb  dewpnt        date  year  month  \\\n",
       "ts                                                                           \n",
       "2004-01-01 00:00:00   RI   744.0     41.0    27.0  2004-01-01  2004      1   \n",
       "2004-01-01 01:00:00   RI   699.0     39.0    25.0  2004-01-01  2004      1   \n",
       "2004-01-01 02:00:00   RI   666.0     40.0    25.0  2004-01-01  2004      1   \n",
       "2004-01-01 03:00:00   RI   645.0     41.0    23.0  2004-01-01  2004      1   \n",
       "2004-01-01 04:00:00   RI   643.0     40.0    18.0  2004-01-01  2004      1   \n",
       "\n",
       "                     hour day_of_week  day_of_year  weekend  holiday   trend  \\\n",
       "ts                                                                             \n",
       "2004-01-01 00:00:00     0         Thu            1    False     True  7344.0   \n",
       "2004-01-01 01:00:00     1         Thu            1    False     True  7345.0   \n",
       "2004-01-01 02:00:00     2         Thu            1    False     True  7346.0   \n",
       "2004-01-01 03:00:00     3         Thu            1    False     True  7347.0   \n",
       "2004-01-01 04:00:00     4         Thu            1    False     True  7348.0   \n",
       "\n",
       "                     non_working  \n",
       "ts                                \n",
       "2004-01-01 00:00:00         True  \n",
       "2004-01-01 01:00:00         True  \n",
       "2004-01-01 02:00:00         True  \n",
       "2004-01-01 03:00:00         True  \n",
       "2004-01-01 04:00:00         True  "
      ]
     },
     "execution_count": 6,
     "metadata": {},
     "output_type": "execute_result"
    }
   ],
   "source": [
    "# Importing the dataset\n",
    "df = pd.read_csv('../Data/cleandata/CleanedRI.csv', parse_dates=['ts'], index_col='ts')\n",
    "df = df.drop(['Unnamed: 0'], axis=1)\n",
    "df['non_working'] = df.apply(lambda x: True if \\\n",
    "                                         ((x['non_working'] == 'non-working'))\n",
    "                                         else False, axis = 1)\n",
    "print('Data Frame Shape:', df.shape)\n",
    "df.head()"
   ]
  },
  {
   "cell_type": "code",
   "execution_count": 7,
   "metadata": {},
   "outputs": [],
   "source": [
    "df['day_of_month'] = df.index.day\n",
    "df['day_of_week (Num)'] = df.index.dayofweek\n",
    "df['non_working'] = df.apply(lambda x: 1 if \\\n",
    "                                         ((x['holiday'] == True) or (x['day_of_week'] in ['Sat', 'Sun']))\n",
    "                                         else 0, axis = 1)"
   ]
  },
  {
   "cell_type": "code",
   "execution_count": 8,
   "metadata": {},
   "outputs": [
    {
     "data": {
      "text/html": [
       "<div>\n",
       "<style scoped>\n",
       "    .dataframe tbody tr th:only-of-type {\n",
       "        vertical-align: middle;\n",
       "    }\n",
       "\n",
       "    .dataframe tbody tr th {\n",
       "        vertical-align: top;\n",
       "    }\n",
       "\n",
       "    .dataframe thead th {\n",
       "        text-align: right;\n",
       "    }\n",
       "</style>\n",
       "<table border=\"1\" class=\"dataframe\">\n",
       "  <thead>\n",
       "    <tr style=\"text-align: right;\">\n",
       "      <th></th>\n",
       "      <th>demand</th>\n",
       "      <th>drybulb</th>\n",
       "      <th>dewpnt</th>\n",
       "      <th>year</th>\n",
       "      <th>month</th>\n",
       "      <th>hour</th>\n",
       "      <th>day_of_year</th>\n",
       "      <th>non_working</th>\n",
       "      <th>day_of_month</th>\n",
       "      <th>day_of_week (Num)</th>\n",
       "    </tr>\n",
       "    <tr>\n",
       "      <th>ts</th>\n",
       "      <th></th>\n",
       "      <th></th>\n",
       "      <th></th>\n",
       "      <th></th>\n",
       "      <th></th>\n",
       "      <th></th>\n",
       "      <th></th>\n",
       "      <th></th>\n",
       "      <th></th>\n",
       "      <th></th>\n",
       "    </tr>\n",
       "  </thead>\n",
       "  <tbody>\n",
       "    <tr>\n",
       "      <th>2004-01-01 00:00:00</th>\n",
       "      <td>744.0</td>\n",
       "      <td>41.0</td>\n",
       "      <td>27.0</td>\n",
       "      <td>2004</td>\n",
       "      <td>1</td>\n",
       "      <td>0</td>\n",
       "      <td>1</td>\n",
       "      <td>1</td>\n",
       "      <td>1</td>\n",
       "      <td>3</td>\n",
       "    </tr>\n",
       "    <tr>\n",
       "      <th>2004-01-01 01:00:00</th>\n",
       "      <td>699.0</td>\n",
       "      <td>39.0</td>\n",
       "      <td>25.0</td>\n",
       "      <td>2004</td>\n",
       "      <td>1</td>\n",
       "      <td>1</td>\n",
       "      <td>1</td>\n",
       "      <td>1</td>\n",
       "      <td>1</td>\n",
       "      <td>3</td>\n",
       "    </tr>\n",
       "    <tr>\n",
       "      <th>2004-01-01 02:00:00</th>\n",
       "      <td>666.0</td>\n",
       "      <td>40.0</td>\n",
       "      <td>25.0</td>\n",
       "      <td>2004</td>\n",
       "      <td>1</td>\n",
       "      <td>2</td>\n",
       "      <td>1</td>\n",
       "      <td>1</td>\n",
       "      <td>1</td>\n",
       "      <td>3</td>\n",
       "    </tr>\n",
       "    <tr>\n",
       "      <th>2004-01-01 03:00:00</th>\n",
       "      <td>645.0</td>\n",
       "      <td>41.0</td>\n",
       "      <td>23.0</td>\n",
       "      <td>2004</td>\n",
       "      <td>1</td>\n",
       "      <td>3</td>\n",
       "      <td>1</td>\n",
       "      <td>1</td>\n",
       "      <td>1</td>\n",
       "      <td>3</td>\n",
       "    </tr>\n",
       "    <tr>\n",
       "      <th>2004-01-01 04:00:00</th>\n",
       "      <td>643.0</td>\n",
       "      <td>40.0</td>\n",
       "      <td>18.0</td>\n",
       "      <td>2004</td>\n",
       "      <td>1</td>\n",
       "      <td>4</td>\n",
       "      <td>1</td>\n",
       "      <td>1</td>\n",
       "      <td>1</td>\n",
       "      <td>3</td>\n",
       "    </tr>\n",
       "  </tbody>\n",
       "</table>\n",
       "</div>"
      ],
      "text/plain": [
       "                     demand  drybulb  dewpnt  year  month  hour  day_of_year  \\\n",
       "ts                                                                             \n",
       "2004-01-01 00:00:00   744.0     41.0    27.0  2004      1     0            1   \n",
       "2004-01-01 01:00:00   699.0     39.0    25.0  2004      1     1            1   \n",
       "2004-01-01 02:00:00   666.0     40.0    25.0  2004      1     2            1   \n",
       "2004-01-01 03:00:00   645.0     41.0    23.0  2004      1     3            1   \n",
       "2004-01-01 04:00:00   643.0     40.0    18.0  2004      1     4            1   \n",
       "\n",
       "                     non_working  day_of_month  day_of_week (Num)  \n",
       "ts                                                                 \n",
       "2004-01-01 00:00:00            1             1                  3  \n",
       "2004-01-01 01:00:00            1             1                  3  \n",
       "2004-01-01 02:00:00            1             1                  3  \n",
       "2004-01-01 03:00:00            1             1                  3  \n",
       "2004-01-01 04:00:00            1             1                  3  "
      ]
     },
     "execution_count": 8,
     "metadata": {},
     "output_type": "execute_result"
    }
   ],
   "source": [
    "# Dropping extra columns\n",
    "\n",
    "df = df.drop('date', axis=1)\n",
    "df = df.drop('day_of_week', axis=1)\n",
    "df = df.drop('holiday', axis=1)\n",
    "df = df.drop('weekend', axis=1)\n",
    "df = df.drop('trend', axis=1)\n",
    "df = df.drop('zone', axis=1)\n",
    "df.head()"
   ]
  },
  {
   "cell_type": "code",
   "execution_count": 9,
   "metadata": {},
   "outputs": [
    {
     "name": "stdout",
     "output_type": "stream",
     "text": [
      "<class 'pandas.core.frame.DataFrame'>\n",
      "DatetimeIndex: 113976 entries, 2004-01-01 00:00:00 to 2016-12-31 23:00:00\n",
      "Data columns (total 10 columns):\n",
      " #   Column             Non-Null Count   Dtype  \n",
      "---  ------             --------------   -----  \n",
      " 0   demand             113976 non-null  float64\n",
      " 1   drybulb            113976 non-null  float64\n",
      " 2   dewpnt             113976 non-null  float64\n",
      " 3   year               113976 non-null  int64  \n",
      " 4   month              113976 non-null  int64  \n",
      " 5   hour               113976 non-null  int64  \n",
      " 6   day_of_year        113976 non-null  int64  \n",
      " 7   non_working        113976 non-null  int64  \n",
      " 8   day_of_month       113976 non-null  int64  \n",
      " 9   day_of_week (Num)  113976 non-null  int64  \n",
      "dtypes: float64(3), int64(7)\n",
      "memory usage: 9.6 MB\n"
     ]
    }
   ],
   "source": [
    "df.info()"
   ]
  },
  {
   "cell_type": "code",
   "execution_count": 11,
   "metadata": {},
   "outputs": [
    {
     "name": "stdout",
     "output_type": "stream",
     "text": [
      "train shape: (11397, 10)\n",
      "test shape: (102579, 10)\n"
     ]
    }
   ],
   "source": [
    "train_size = int(len(df) * 0.1)\n",
    "test_size = int(len(df) - train_size)\n",
    "\n",
    "train, test = df.iloc[0:train_size], df.iloc[train_size:len(df)]\n",
    "print('train shape:', train.shape)\n",
    "print('test shape:', test.shape)"
   ]
  },
  {
   "cell_type": "code",
   "execution_count": 12,
   "metadata": {},
   "outputs": [
    {
     "name": "stderr",
     "output_type": "stream",
     "text": [
      "/Users/alnoaimi/opt/anaconda3/lib/python3.8/site-packages/pandas/core/indexing.py:1835: SettingWithCopyWarning: \n",
      "A value is trying to be set on a copy of a slice from a DataFrame.\n",
      "Try using .loc[row_indexer,col_indexer] = value instead\n",
      "\n",
      "See the caveats in the documentation: https://pandas.pydata.org/pandas-docs/stable/user_guide/indexing.html#returning-a-view-versus-a-copy\n",
      "  self._setitem_single_column(loc, value[:, i].tolist(), pi)\n",
      "<ipython-input-12-41e13b917e98>:12: SettingWithCopyWarning: \n",
      "A value is trying to be set on a copy of a slice from a DataFrame.\n",
      "Try using .loc[row_indexer,col_indexer] = value instead\n",
      "\n",
      "See the caveats in the documentation: https://pandas.pydata.org/pandas-docs/stable/user_guide/indexing.html#returning-a-view-versus-a-copy\n",
      "  train['demand'] = demand_transformer.transform(train[['demand']])\n",
      "/Users/alnoaimi/opt/anaconda3/lib/python3.8/site-packages/pandas/core/indexing.py:1835: SettingWithCopyWarning: \n",
      "A value is trying to be set on a copy of a slice from a DataFrame.\n",
      "Try using .loc[row_indexer,col_indexer] = value instead\n",
      "\n",
      "See the caveats in the documentation: https://pandas.pydata.org/pandas-docs/stable/user_guide/indexing.html#returning-a-view-versus-a-copy\n",
      "  self._setitem_single_column(loc, value[:, i].tolist(), pi)\n",
      "<ipython-input-12-41e13b917e98>:15: SettingWithCopyWarning: \n",
      "A value is trying to be set on a copy of a slice from a DataFrame.\n",
      "Try using .loc[row_indexer,col_indexer] = value instead\n",
      "\n",
      "See the caveats in the documentation: https://pandas.pydata.org/pandas-docs/stable/user_guide/indexing.html#returning-a-view-versus-a-copy\n",
      "  test['demand'] = demand_transformer.transform(test[['demand']])\n"
     ]
    }
   ],
   "source": [
    "from sklearn.preprocessing import RobustScaler\n",
    "\n",
    "f_columns = ['drybulb', 'dewpnt']\n",
    "\n",
    "f_transformer = RobustScaler()\n",
    "demand_transformer = RobustScaler()\n",
    "\n",
    "f_transformer = f_transformer.fit(train[f_columns].to_numpy())\n",
    "demand_transformer = demand_transformer.fit(train[['demand']])\n",
    "\n",
    "train.loc[:, f_columns] = f_transformer.transform(train[f_columns].to_numpy())\n",
    "train['demand'] = demand_transformer.transform(train[['demand']])\n",
    "\n",
    "test.loc[:, f_columns] = f_transformer.transform(test[f_columns].to_numpy())\n",
    "test['demand'] = demand_transformer.transform(test[['demand']])"
   ]
  },
  {
   "cell_type": "code",
   "execution_count": 13,
   "metadata": {},
   "outputs": [
    {
     "data": {
      "text/html": [
       "<div>\n",
       "<style scoped>\n",
       "    .dataframe tbody tr th:only-of-type {\n",
       "        vertical-align: middle;\n",
       "    }\n",
       "\n",
       "    .dataframe tbody tr th {\n",
       "        vertical-align: top;\n",
       "    }\n",
       "\n",
       "    .dataframe thead th {\n",
       "        text-align: right;\n",
       "    }\n",
       "</style>\n",
       "<table border=\"1\" class=\"dataframe\">\n",
       "  <thead>\n",
       "    <tr style=\"text-align: right;\">\n",
       "      <th></th>\n",
       "      <th>demand</th>\n",
       "      <th>drybulb</th>\n",
       "      <th>dewpnt</th>\n",
       "      <th>year</th>\n",
       "      <th>month</th>\n",
       "      <th>hour</th>\n",
       "      <th>day_of_year</th>\n",
       "      <th>non_working</th>\n",
       "      <th>day_of_month</th>\n",
       "      <th>day_of_week (Num)</th>\n",
       "    </tr>\n",
       "    <tr>\n",
       "      <th>ts</th>\n",
       "      <th></th>\n",
       "      <th></th>\n",
       "      <th></th>\n",
       "      <th></th>\n",
       "      <th></th>\n",
       "      <th></th>\n",
       "      <th></th>\n",
       "      <th></th>\n",
       "      <th></th>\n",
       "      <th></th>\n",
       "    </tr>\n",
       "  </thead>\n",
       "  <tbody>\n",
       "    <tr>\n",
       "      <th>2004-01-01 00:00:00</th>\n",
       "      <td>-0.789286</td>\n",
       "      <td>-0.178571</td>\n",
       "      <td>-0.28125</td>\n",
       "      <td>2004</td>\n",
       "      <td>1</td>\n",
       "      <td>0</td>\n",
       "      <td>1</td>\n",
       "      <td>1</td>\n",
       "      <td>1</td>\n",
       "      <td>3</td>\n",
       "    </tr>\n",
       "    <tr>\n",
       "      <th>2004-01-01 01:00:00</th>\n",
       "      <td>-0.950000</td>\n",
       "      <td>-0.250000</td>\n",
       "      <td>-0.34375</td>\n",
       "      <td>2004</td>\n",
       "      <td>1</td>\n",
       "      <td>1</td>\n",
       "      <td>1</td>\n",
       "      <td>1</td>\n",
       "      <td>1</td>\n",
       "      <td>3</td>\n",
       "    </tr>\n",
       "  </tbody>\n",
       "</table>\n",
       "</div>"
      ],
      "text/plain": [
       "                       demand   drybulb   dewpnt  year  month  hour  \\\n",
       "ts                                                                    \n",
       "2004-01-01 00:00:00 -0.789286 -0.178571 -0.28125  2004      1     0   \n",
       "2004-01-01 01:00:00 -0.950000 -0.250000 -0.34375  2004      1     1   \n",
       "\n",
       "                     day_of_year  non_working  day_of_month  day_of_week (Num)  \n",
       "ts                                                                              \n",
       "2004-01-01 00:00:00            1            1             1                  3  \n",
       "2004-01-01 01:00:00            1            1             1                  3  "
      ]
     },
     "execution_count": 13,
     "metadata": {},
     "output_type": "execute_result"
    }
   ],
   "source": [
    "df.head(2)"
   ]
  },
  {
   "cell_type": "code",
   "execution_count": 14,
   "metadata": {},
   "outputs": [],
   "source": [
    "def create_dataset(X, y, time_steps=1):\n",
    "    Xs, ys = [], []\n",
    "    for i in range(len(X) - time_steps):\n",
    "        v = X.iloc[i:(i + time_steps)].values\n",
    "        Xs.append(v)        \n",
    "        ys.append(y.iloc[i + time_steps])\n",
    "    return np.array(Xs), np.array(ys)"
   ]
  },
  {
   "cell_type": "code",
   "execution_count": 15,
   "metadata": {},
   "outputs": [],
   "source": [
    "TIME_STEPS = 24\n",
    "\n",
    "X_train, y_train = create_dataset(train, train.demand, time_steps=TIME_STEPS)\n",
    "X_test, y_test = create_dataset(test, test.demand, time_steps=TIME_STEPS)"
   ]
  },
  {
   "cell_type": "code",
   "execution_count": 26,
   "metadata": {},
   "outputs": [
    {
     "name": "stdout",
     "output_type": "stream",
     "text": [
      "Sahpe: (102555, 24, 10)\n"
     ]
    }
   ],
   "source": [
    "print('Sahpe:', X_test.shape)"
   ]
  },
  {
   "cell_type": "code",
   "execution_count": 20,
   "metadata": {},
   "outputs": [],
   "source": [
    "from tensorflow import keras"
   ]
  },
  {
   "cell_type": "code",
   "execution_count": 22,
   "metadata": {},
   "outputs": [
    {
     "name": "stdout",
     "output_type": "stream",
     "text": [
      "Model: \"sequential_3\"\n",
      "_________________________________________________________________\n",
      " Layer (type)                Output Shape              Param #   \n",
      "=================================================================\n",
      " lstm_9 (LSTM)               (None, 24, 120)           62880     \n",
      "                                                                 \n",
      " lstm_10 (LSTM)              (None, 24, 80)            64320     \n",
      "                                                                 \n",
      " lstm_11 (LSTM)              (None, 40)                19360     \n",
      "                                                                 \n",
      " dense_3 (Dense)             (None, 1)                 41        \n",
      "                                                                 \n",
      "=================================================================\n",
      "Total params: 146,601\n",
      "Trainable params: 146,601\n",
      "Non-trainable params: 0\n",
      "_________________________________________________________________\n"
     ]
    }
   ],
   "source": [
    "my_model = keras.models.load_model('../LSTM_Model.h5')\n",
    "my_model.summary()"
   ]
  },
  {
   "cell_type": "code",
   "execution_count": 27,
   "metadata": {},
   "outputs": [
    {
     "name": "stdout",
     "output_type": "stream",
     "text": [
      "3205/3205 [==============================] - 44s 13ms/step\n",
      "356/356 [==============================] - 4s 11ms/step\n"
     ]
    }
   ],
   "source": [
    "y_pred = my_model.predict(X_test)\n",
    "y_pred_train = my_model.predict(X_train)"
   ]
  },
  {
   "cell_type": "code",
   "execution_count": 28,
   "metadata": {},
   "outputs": [],
   "source": [
    "y_train_inv = demand_transformer.inverse_transform(y_train.reshape(1, -1))\n",
    "y_test_inv = demand_transformer.inverse_transform(y_test.reshape(1, -1))\n",
    "y_pred_test_inv = demand_transformer.inverse_transform(y_pred)\n",
    "y_pred_train_inv = demand_transformer.inverse_transform(y_pred_train)"
   ]
  },
  {
   "cell_type": "code",
   "execution_count": 29,
   "metadata": {},
   "outputs": [
    {
     "data": {
      "text/plain": [
       "array([[703., 674., 660., ..., 925., 960., 999.]])"
      ]
     },
     "execution_count": 29,
     "metadata": {},
     "output_type": "execute_result"
    }
   ],
   "source": [
    "y_train_inv"
   ]
  },
  {
   "cell_type": "code",
   "execution_count": 38,
   "metadata": {},
   "outputs": [
    {
     "data": {
      "text/plain": [
       "ts\n",
       "2005-04-20 21:00:00    977.000\n",
       "2005-04-20 22:00:00    873.000\n",
       "2005-04-20 23:00:00    769.000\n",
       "2005-04-21 00:00:00    697.000\n",
       "2005-04-21 01:00:00    650.000\n",
       "                        ...   \n",
       "2016-12-31 19:00:00    979.016\n",
       "2016-12-31 20:00:00    930.341\n",
       "2016-12-31 21:00:00    883.853\n",
       "2016-12-31 22:00:00    832.257\n",
       "2016-12-31 23:00:00    779.591\n",
       "Name: 0, Length: 102555, dtype: float64"
      ]
     },
     "execution_count": 38,
     "metadata": {},
     "output_type": "execute_result"
    }
   ],
   "source": [
    "y_test_inv = pd.DataFrame(y_test_inv[0], index=df.index[-len(y_test_inv[0]):])\n",
    "y_test_inv = pd.Series(y_test_inv[0])\n",
    "y_test_inv"
   ]
  },
  {
   "cell_type": "code",
   "execution_count": 37,
   "metadata": {},
   "outputs": [
    {
     "data": {
      "text/plain": [
       "ts\n",
       "2005-04-20 21:00:00    977.231873\n",
       "2005-04-20 22:00:00    866.398376\n",
       "2005-04-20 23:00:00    764.113037\n",
       "2005-04-21 00:00:00    697.169861\n",
       "2005-04-21 01:00:00    658.226929\n",
       "                          ...    \n",
       "2016-12-31 19:00:00    982.527649\n",
       "2016-12-31 20:00:00    927.056152\n",
       "2016-12-31 21:00:00    872.002441\n",
       "2016-12-31 22:00:00    818.850098\n",
       "2016-12-31 23:00:00    747.456848\n",
       "Name: 0, Length: 102555, dtype: float32"
      ]
     },
     "execution_count": 37,
     "metadata": {},
     "output_type": "execute_result"
    }
   ],
   "source": [
    "LSTM_pred = pd.DataFrame(y_pred_test_inv, index=df.index[-len(y_test):])\n",
    "LSTM_pred = pd.Series(LSTM_pred[0])\n",
    "LSTM_pred"
   ]
  },
  {
   "cell_type": "code",
   "execution_count": 39,
   "metadata": {},
   "outputs": [
    {
     "data": {
      "image/png": "[encoded data removed]",
      "text/plain": [
       "<Figure size 1152x648 with 1 Axes>"
      ]
     },
     "metadata": {},
     "output_type": "display_data"
    }
   ],
   "source": [
    "PlotPredictedTS(y_test_inv, LSTM_pred, model_name='LSTM Tested on Unseen Data')"
   ]
  },
  {
   "cell_type": "code",
   "execution_count": 41,
   "metadata": {},
   "outputs": [
    {
     "data": {
      "image/png": "[encoded data removed]",
      "text/plain": [
       "<Figure size 720x720 with 1 Axes>"
      ]
     },
     "metadata": {},
     "output_type": "display_data"
    }
   ],
   "source": [
    "PredTrueReg(LSTM_pred, y_test_inv, model_name='LSTM Tested on Unseen Data')"
   ]
  },
  {
   "cell_type": "code",
   "execution_count": 50,
   "metadata": {},
   "outputs": [
    {
     "name": "stdout",
     "output_type": "stream",
     "text": [
      "Error metrics for LSTM Tested on Unseen Data \n",
      "\n",
      "Root Mean Squared Error (RMSE): 16.226\n",
      "Mean Absolute Error (MAE): 11.435\n",
      "Mean Absolute Percentage Error (MAPE): 1.231 %\n",
      "Variance Score (R2): 0.994\n"
     ]
    }
   ],
   "source": [
    "error_metrics(LSTM_pred, y_test_inv, model_name='LSTM Tested on Unseen Data')"
   ]
  }
 ],
 "metadata": {
  "kernelspec": {
   "display_name": "Python 3.8.11 ('base')",
   "language": "python",
   "name": "python3"
  },
  "language_info": {
   "codemirror_mode": {
    "name": "ipython",
    "version": 3
   },
   "file_extension": ".py",
   "mimetype": "text/x-python",
   "name": "python",
   "nbconvert_exporter": "python",
   "pygments_lexer": "ipython3",
   "version": "3.8.11"
  },
  "orig_nbformat": 4,
  "vscode": {
   "interpreter": {
    "hash": "5466fb817fda1e2a60ae57c122095fa60b59b63aa3465a8b9277d2e81dbe86a8"
   }
  }
 },
 "nbformat": 4,
 "nbformat_minor": 2
}
